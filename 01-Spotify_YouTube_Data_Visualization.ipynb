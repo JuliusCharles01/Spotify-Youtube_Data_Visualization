{
 "cells": [
  {
   "cell_type": "markdown",
   "metadata": {},
   "source": [
    "## About Dataset"
   ]
  },
  {
   "cell_type": "markdown",
   "metadata": {},
   "source": [
    "Dataset of songs of various artist in the world and for each song is present:\n",
    "\n",
    "Several statistics of the music version on spotify, including the number of streams;\n",
    "Number of views of the official music video of the song on youtube."
   ]
  },
  {
   "cell_type": "markdown",
   "metadata": {},
   "source": [
    "## Content"
   ]
  },
  {
   "cell_type": "markdown",
   "metadata": {},
   "source": [
    "It includes 26 variables for each of the songs collected from spotify. These variables are briefly described next:\n",
    "\n",
    "1.Track: name of the song, as visible on the Spotify platform.\n",
    "\n",
    "2.Artist: name of the artist.\n",
    "\n",
    "3.Url_spotify: the Url of the artist.\n",
    "\n",
    "4.Album: the album in wich the song is contained on Spotify.\n",
    "\n",
    "5.Album_type: indicates if the song is relesead on Spotify as a single or contained in an album.\n",
    "\n",
    "6.Uri: a spotify link used to find the song through the API.\n",
    "\n",
    "7.Danceability: describes how suitable a track is for dancing based on a combination of musical         elements including tempo, rhythm stability, beat strength, and overall regularity. A value of 0.0     is least danceable and 1.0 is most danceable.\n",
    "\n",
    "8.Energy: is a measure from 0.0 to 1.0 and represents a perceptual measure of intensity and activity.   Typically, energetic tracks feel fast, loud, and noisy. For example, death metal has high energy,     while a Bach prelude scores low on the scale. Perceptual features contributing to this attribute     include dynamic range, perceived loudness, timbre, onset rate, and general entropy.\n",
    "\n",
    "9.Key: the key the track is in. Integers map to pitches using standard Pitch Class notation. E.g. 0 =   C, 1 = C♯/D♭, 2 = D, and so on. If no key was detected, the value is -1.\n",
    "\n",
    "10.Loudness: the overall loudness of a track in decibels (dB). Loudness values are averaged across     the entire track and are useful for comparing relative loudness of tracks. Loudness is the quality   of a sound that is the primary psychological correlate of physical strength (amplitude). Values       typically range between -60 and 0 db.\n",
    "\n",
    "11.Speechiness: detects the presence of spoken words in a track. The more exclusively speech-like the   recording (e.g. talk show, audio book, poetry), the closer to 1.0 the attribute value. Values above   0.66 describe tracks that are probably made entirely of spoken words. Values between 0.33 and 0.66   describe tracks that may contain both music and speech, either in sections or layered, including     such cases as rap music. Values below 0.33 most likely represent music and other non-speech-like     tracks.\n",
    "\n",
    "12.Acousticness: a confidence measure from 0.0 to 1.0 of whether the track is acoustic. 1.0             represents high confidence the track is acoustic.\n",
    "\n",
    "13.Instrumentalness: predicts whether a track contains no vocals. \"Ooh\" and \"aah\" sounds are treated   as instrumental in this context. Rap or spoken word tracks are clearly \"vocal\". The closer the       instrumentalness value is to 1.0, the greater likelihood the track contains no vocal content.         Values above 0.5 are intended to represent instrumental tracks, but confidence is higher as the       value approaches 1.0.\n",
    "\n",
    "14.Liveness: detects the presence of an audience in the recording. Higher liveness values represent     an increased probability that the track was performed live. A value above 0.8 provides strong         likelihood that the track is live.\n",
    "\n",
    "15.Valence: a measure from 0.0 to 1.0 describing the musical positiveness conveyed by a track. Tracks   with high valence sound more positive (e.g. happy, cheerful, euphoric), while tracks with low         valence sound more negative (e.g. sad, depressed, angry).\n",
    "\n",
    "16.Tempo: the overall estimated tempo of a track in beats per minute (BPM). In musical terminology,     tempo is the speed or pace of a given piece and derives directly from the average beat duration.\n",
    "\n",
    "17.Duration_ms: the duration of the track in milliseconds.\n",
    "\n",
    "18.Stream: number of streams of the song on Spotify.\n",
    "\n",
    "19.Url_youtube: url of the video linked to the song on Youtube, if it have any.\n",
    "\n",
    "20.Title: title of the videoclip on youtube.\n",
    "\n",
    "21.Channel: name of the channel that have published the video.\n",
    "\n",
    "22.Views: number of views.\n",
    "\n",
    "23.Likes: number of likes.\n",
    "\n",
    "24.Comments: number of comments.\n",
    "\n",
    "25.Description: description of the video on Youtube.\n",
    "\n",
    "26.Licensed: Indicates whether the video represents licensed content, which means that the content     was uploaded to a channel linked to a YouTube content partner and then claimed by that partner.\n",
    "  official_video: boolean value that indicates if the video found is the official video of the song.\n",
    "\n",
    "\n",
    "### These datas are heavily dependent on the time they were collected, which is in this case the 7th of February, 2023."
   ]
  },
  {
   "cell_type": "markdown",
   "metadata": {},
   "source": [
    "### Importing the necessary Libaries"
   ]
  },
  {
   "cell_type": "code",
   "execution_count": 2,
   "metadata": {},
   "outputs": [],
   "source": [
    "import matplotlib.pyplot as plt\n",
    "import numpy as np\n",
    "import pandas as pd\n",
    "import seaborn as sns"
   ]
  },
  {
   "cell_type": "code",
   "execution_count": 6,
   "metadata": {},
   "outputs": [],
   "source": [
    "%matplotlib inline"
   ]
  },
  {
   "cell_type": "code",
   "execution_count": 7,
   "metadata": {},
   "outputs": [],
   "source": [
    "df = pd.read_csv('Spotify_Youtube.csv')"
   ]
  },
  {
   "cell_type": "code",
   "execution_count": 8,
   "metadata": {},
   "outputs": [
    {
     "data": {
      "text/html": [
       "<div>\n",
       "<style scoped>\n",
       "    .dataframe tbody tr th:only-of-type {\n",
       "        vertical-align: middle;\n",
       "    }\n",
       "\n",
       "    .dataframe tbody tr th {\n",
       "        vertical-align: top;\n",
       "    }\n",
       "\n",
       "    .dataframe thead th {\n",
       "        text-align: right;\n",
       "    }\n",
       "</style>\n",
       "<table border=\"1\" class=\"dataframe\">\n",
       "  <thead>\n",
       "    <tr style=\"text-align: right;\">\n",
       "      <th></th>\n",
       "      <th>Unnamed: 0</th>\n",
       "      <th>Artist</th>\n",
       "      <th>Url_spotify</th>\n",
       "      <th>Track</th>\n",
       "      <th>Album</th>\n",
       "      <th>Album_type</th>\n",
       "      <th>Uri</th>\n",
       "      <th>Danceability</th>\n",
       "      <th>Energy</th>\n",
       "      <th>Key</th>\n",
       "      <th>...</th>\n",
       "      <th>Url_youtube</th>\n",
       "      <th>Title</th>\n",
       "      <th>Channel</th>\n",
       "      <th>Views</th>\n",
       "      <th>Likes</th>\n",
       "      <th>Comments</th>\n",
       "      <th>Description</th>\n",
       "      <th>Licensed</th>\n",
       "      <th>official_video</th>\n",
       "      <th>Stream</th>\n",
       "    </tr>\n",
       "  </thead>\n",
       "  <tbody>\n",
       "    <tr>\n",
       "      <th>0</th>\n",
       "      <td>0</td>\n",
       "      <td>Gorillaz</td>\n",
       "      <td>https://open.spotify.com/artist/3AA28KZvwAUcZu...</td>\n",
       "      <td>Feel Good Inc.</td>\n",
       "      <td>Demon Days</td>\n",
       "      <td>album</td>\n",
       "      <td>spotify:track:0d28khcov6AiegSCpG5TuT</td>\n",
       "      <td>0.818</td>\n",
       "      <td>0.705</td>\n",
       "      <td>6.0</td>\n",
       "      <td>...</td>\n",
       "      <td>https://www.youtube.com/watch?v=HyHNuVaZJ-k</td>\n",
       "      <td>Gorillaz - Feel Good Inc. (Official Video)</td>\n",
       "      <td>Gorillaz</td>\n",
       "      <td>693555221.0</td>\n",
       "      <td>6220896.0</td>\n",
       "      <td>169907.0</td>\n",
       "      <td>Official HD Video for Gorillaz' fantastic trac...</td>\n",
       "      <td>True</td>\n",
       "      <td>True</td>\n",
       "      <td>1.040235e+09</td>\n",
       "    </tr>\n",
       "    <tr>\n",
       "      <th>1</th>\n",
       "      <td>1</td>\n",
       "      <td>Gorillaz</td>\n",
       "      <td>https://open.spotify.com/artist/3AA28KZvwAUcZu...</td>\n",
       "      <td>Rhinestone Eyes</td>\n",
       "      <td>Plastic Beach</td>\n",
       "      <td>album</td>\n",
       "      <td>spotify:track:1foMv2HQwfQ2vntFf9HFeG</td>\n",
       "      <td>0.676</td>\n",
       "      <td>0.703</td>\n",
       "      <td>8.0</td>\n",
       "      <td>...</td>\n",
       "      <td>https://www.youtube.com/watch?v=yYDmaexVHic</td>\n",
       "      <td>Gorillaz - Rhinestone Eyes [Storyboard Film] (...</td>\n",
       "      <td>Gorillaz</td>\n",
       "      <td>72011645.0</td>\n",
       "      <td>1079128.0</td>\n",
       "      <td>31003.0</td>\n",
       "      <td>The official video for Gorillaz - Rhinestone E...</td>\n",
       "      <td>True</td>\n",
       "      <td>True</td>\n",
       "      <td>3.100837e+08</td>\n",
       "    </tr>\n",
       "    <tr>\n",
       "      <th>2</th>\n",
       "      <td>2</td>\n",
       "      <td>Gorillaz</td>\n",
       "      <td>https://open.spotify.com/artist/3AA28KZvwAUcZu...</td>\n",
       "      <td>New Gold (feat. Tame Impala and Bootie Brown)</td>\n",
       "      <td>New Gold (feat. Tame Impala and Bootie Brown)</td>\n",
       "      <td>single</td>\n",
       "      <td>spotify:track:64dLd6rVqDLtkXFYrEUHIU</td>\n",
       "      <td>0.695</td>\n",
       "      <td>0.923</td>\n",
       "      <td>1.0</td>\n",
       "      <td>...</td>\n",
       "      <td>https://www.youtube.com/watch?v=qJa-VFwPpYA</td>\n",
       "      <td>Gorillaz - New Gold ft. Tame Impala &amp; Bootie B...</td>\n",
       "      <td>Gorillaz</td>\n",
       "      <td>8435055.0</td>\n",
       "      <td>282142.0</td>\n",
       "      <td>7399.0</td>\n",
       "      <td>Gorillaz - New Gold ft. Tame Impala &amp; Bootie B...</td>\n",
       "      <td>True</td>\n",
       "      <td>True</td>\n",
       "      <td>6.306347e+07</td>\n",
       "    </tr>\n",
       "    <tr>\n",
       "      <th>3</th>\n",
       "      <td>3</td>\n",
       "      <td>Gorillaz</td>\n",
       "      <td>https://open.spotify.com/artist/3AA28KZvwAUcZu...</td>\n",
       "      <td>On Melancholy Hill</td>\n",
       "      <td>Plastic Beach</td>\n",
       "      <td>album</td>\n",
       "      <td>spotify:track:0q6LuUqGLUiCPP1cbdwFs3</td>\n",
       "      <td>0.689</td>\n",
       "      <td>0.739</td>\n",
       "      <td>2.0</td>\n",
       "      <td>...</td>\n",
       "      <td>https://www.youtube.com/watch?v=04mfKJWDSzI</td>\n",
       "      <td>Gorillaz - On Melancholy Hill (Official Video)</td>\n",
       "      <td>Gorillaz</td>\n",
       "      <td>211754952.0</td>\n",
       "      <td>1788577.0</td>\n",
       "      <td>55229.0</td>\n",
       "      <td>Follow Gorillaz online:\\nhttp://gorillaz.com \\...</td>\n",
       "      <td>True</td>\n",
       "      <td>True</td>\n",
       "      <td>4.346636e+08</td>\n",
       "    </tr>\n",
       "    <tr>\n",
       "      <th>4</th>\n",
       "      <td>4</td>\n",
       "      <td>Gorillaz</td>\n",
       "      <td>https://open.spotify.com/artist/3AA28KZvwAUcZu...</td>\n",
       "      <td>Clint Eastwood</td>\n",
       "      <td>Gorillaz</td>\n",
       "      <td>album</td>\n",
       "      <td>spotify:track:7yMiX7n9SBvadzox8T5jzT</td>\n",
       "      <td>0.663</td>\n",
       "      <td>0.694</td>\n",
       "      <td>10.0</td>\n",
       "      <td>...</td>\n",
       "      <td>https://www.youtube.com/watch?v=1V_xRb0x9aw</td>\n",
       "      <td>Gorillaz - Clint Eastwood (Official Video)</td>\n",
       "      <td>Gorillaz</td>\n",
       "      <td>618480958.0</td>\n",
       "      <td>6197318.0</td>\n",
       "      <td>155930.0</td>\n",
       "      <td>The official music video for Gorillaz - Clint ...</td>\n",
       "      <td>True</td>\n",
       "      <td>True</td>\n",
       "      <td>6.172597e+08</td>\n",
       "    </tr>\n",
       "  </tbody>\n",
       "</table>\n",
       "<p>5 rows × 28 columns</p>\n",
       "</div>"
      ],
      "text/plain": [
       "   Unnamed: 0    Artist                                        Url_spotify  \\\n",
       "0           0  Gorillaz  https://open.spotify.com/artist/3AA28KZvwAUcZu...   \n",
       "1           1  Gorillaz  https://open.spotify.com/artist/3AA28KZvwAUcZu...   \n",
       "2           2  Gorillaz  https://open.spotify.com/artist/3AA28KZvwAUcZu...   \n",
       "3           3  Gorillaz  https://open.spotify.com/artist/3AA28KZvwAUcZu...   \n",
       "4           4  Gorillaz  https://open.spotify.com/artist/3AA28KZvwAUcZu...   \n",
       "\n",
       "                                           Track  \\\n",
       "0                                 Feel Good Inc.   \n",
       "1                                Rhinestone Eyes   \n",
       "2  New Gold (feat. Tame Impala and Bootie Brown)   \n",
       "3                             On Melancholy Hill   \n",
       "4                                 Clint Eastwood   \n",
       "\n",
       "                                           Album Album_type  \\\n",
       "0                                     Demon Days      album   \n",
       "1                                  Plastic Beach      album   \n",
       "2  New Gold (feat. Tame Impala and Bootie Brown)     single   \n",
       "3                                  Plastic Beach      album   \n",
       "4                                       Gorillaz      album   \n",
       "\n",
       "                                    Uri  Danceability  Energy   Key  ...  \\\n",
       "0  spotify:track:0d28khcov6AiegSCpG5TuT         0.818   0.705   6.0  ...   \n",
       "1  spotify:track:1foMv2HQwfQ2vntFf9HFeG         0.676   0.703   8.0  ...   \n",
       "2  spotify:track:64dLd6rVqDLtkXFYrEUHIU         0.695   0.923   1.0  ...   \n",
       "3  spotify:track:0q6LuUqGLUiCPP1cbdwFs3         0.689   0.739   2.0  ...   \n",
       "4  spotify:track:7yMiX7n9SBvadzox8T5jzT         0.663   0.694  10.0  ...   \n",
       "\n",
       "                                   Url_youtube  \\\n",
       "0  https://www.youtube.com/watch?v=HyHNuVaZJ-k   \n",
       "1  https://www.youtube.com/watch?v=yYDmaexVHic   \n",
       "2  https://www.youtube.com/watch?v=qJa-VFwPpYA   \n",
       "3  https://www.youtube.com/watch?v=04mfKJWDSzI   \n",
       "4  https://www.youtube.com/watch?v=1V_xRb0x9aw   \n",
       "\n",
       "                                               Title   Channel        Views  \\\n",
       "0         Gorillaz - Feel Good Inc. (Official Video)  Gorillaz  693555221.0   \n",
       "1  Gorillaz - Rhinestone Eyes [Storyboard Film] (...  Gorillaz   72011645.0   \n",
       "2  Gorillaz - New Gold ft. Tame Impala & Bootie B...  Gorillaz    8435055.0   \n",
       "3     Gorillaz - On Melancholy Hill (Official Video)  Gorillaz  211754952.0   \n",
       "4         Gorillaz - Clint Eastwood (Official Video)  Gorillaz  618480958.0   \n",
       "\n",
       "       Likes  Comments                                        Description  \\\n",
       "0  6220896.0  169907.0  Official HD Video for Gorillaz' fantastic trac...   \n",
       "1  1079128.0   31003.0  The official video for Gorillaz - Rhinestone E...   \n",
       "2   282142.0    7399.0  Gorillaz - New Gold ft. Tame Impala & Bootie B...   \n",
       "3  1788577.0   55229.0  Follow Gorillaz online:\\nhttp://gorillaz.com \\...   \n",
       "4  6197318.0  155930.0  The official music video for Gorillaz - Clint ...   \n",
       "\n",
       "   Licensed official_video        Stream  \n",
       "0      True           True  1.040235e+09  \n",
       "1      True           True  3.100837e+08  \n",
       "2      True           True  6.306347e+07  \n",
       "3      True           True  4.346636e+08  \n",
       "4      True           True  6.172597e+08  \n",
       "\n",
       "[5 rows x 28 columns]"
      ]
     },
     "execution_count": 8,
     "metadata": {},
     "output_type": "execute_result"
    }
   ],
   "source": [
    "df.head()"
   ]
  },
  {
   "cell_type": "code",
   "execution_count": 10,
   "metadata": {},
   "outputs": [
    {
     "data": {
      "text/html": [
       "<div>\n",
       "<style scoped>\n",
       "    .dataframe tbody tr th:only-of-type {\n",
       "        vertical-align: middle;\n",
       "    }\n",
       "\n",
       "    .dataframe tbody tr th {\n",
       "        vertical-align: top;\n",
       "    }\n",
       "\n",
       "    .dataframe thead th {\n",
       "        text-align: right;\n",
       "    }\n",
       "</style>\n",
       "<table border=\"1\" class=\"dataframe\">\n",
       "  <thead>\n",
       "    <tr style=\"text-align: right;\">\n",
       "      <th></th>\n",
       "      <th>count</th>\n",
       "      <th>mean</th>\n",
       "      <th>std</th>\n",
       "      <th>min</th>\n",
       "      <th>25%</th>\n",
       "      <th>50%</th>\n",
       "      <th>75%</th>\n",
       "      <th>max</th>\n",
       "    </tr>\n",
       "  </thead>\n",
       "  <tbody>\n",
       "    <tr>\n",
       "      <th>Unnamed: 0</th>\n",
       "      <td>20718.0</td>\n",
       "      <td>1.035850e+04</td>\n",
       "      <td>5.980916e+03</td>\n",
       "      <td>0.000000</td>\n",
       "      <td>5.179250e+03</td>\n",
       "      <td>1.035850e+04</td>\n",
       "      <td>1.553775e+04</td>\n",
       "      <td>2.071700e+04</td>\n",
       "    </tr>\n",
       "    <tr>\n",
       "      <th>Danceability</th>\n",
       "      <td>20716.0</td>\n",
       "      <td>6.197775e-01</td>\n",
       "      <td>1.652724e-01</td>\n",
       "      <td>0.000000</td>\n",
       "      <td>5.180000e-01</td>\n",
       "      <td>6.370000e-01</td>\n",
       "      <td>7.402500e-01</td>\n",
       "      <td>9.750000e-01</td>\n",
       "    </tr>\n",
       "    <tr>\n",
       "      <th>Energy</th>\n",
       "      <td>20716.0</td>\n",
       "      <td>6.352503e-01</td>\n",
       "      <td>2.141468e-01</td>\n",
       "      <td>0.000020</td>\n",
       "      <td>5.070000e-01</td>\n",
       "      <td>6.660000e-01</td>\n",
       "      <td>7.980000e-01</td>\n",
       "      <td>1.000000e+00</td>\n",
       "    </tr>\n",
       "    <tr>\n",
       "      <th>Key</th>\n",
       "      <td>20716.0</td>\n",
       "      <td>5.300348e+00</td>\n",
       "      <td>3.576449e+00</td>\n",
       "      <td>0.000000</td>\n",
       "      <td>2.000000e+00</td>\n",
       "      <td>5.000000e+00</td>\n",
       "      <td>8.000000e+00</td>\n",
       "      <td>1.100000e+01</td>\n",
       "    </tr>\n",
       "    <tr>\n",
       "      <th>Loudness</th>\n",
       "      <td>20716.0</td>\n",
       "      <td>-7.671680e+00</td>\n",
       "      <td>4.632749e+00</td>\n",
       "      <td>-46.251000</td>\n",
       "      <td>-8.858000e+00</td>\n",
       "      <td>-6.536000e+00</td>\n",
       "      <td>-4.931000e+00</td>\n",
       "      <td>9.200000e-01</td>\n",
       "    </tr>\n",
       "    <tr>\n",
       "      <th>Speechiness</th>\n",
       "      <td>20716.0</td>\n",
       "      <td>9.645601e-02</td>\n",
       "      <td>1.119600e-01</td>\n",
       "      <td>0.000000</td>\n",
       "      <td>3.570000e-02</td>\n",
       "      <td>5.050000e-02</td>\n",
       "      <td>1.030000e-01</td>\n",
       "      <td>9.640000e-01</td>\n",
       "    </tr>\n",
       "    <tr>\n",
       "      <th>Acousticness</th>\n",
       "      <td>20716.0</td>\n",
       "      <td>2.915353e-01</td>\n",
       "      <td>2.862988e-01</td>\n",
       "      <td>0.000001</td>\n",
       "      <td>4.520000e-02</td>\n",
       "      <td>1.930000e-01</td>\n",
       "      <td>4.772500e-01</td>\n",
       "      <td>9.960000e-01</td>\n",
       "    </tr>\n",
       "    <tr>\n",
       "      <th>Instrumentalness</th>\n",
       "      <td>20716.0</td>\n",
       "      <td>5.596156e-02</td>\n",
       "      <td>1.932620e-01</td>\n",
       "      <td>0.000000</td>\n",
       "      <td>0.000000e+00</td>\n",
       "      <td>2.405000e-06</td>\n",
       "      <td>4.630000e-04</td>\n",
       "      <td>1.000000e+00</td>\n",
       "    </tr>\n",
       "    <tr>\n",
       "      <th>Liveness</th>\n",
       "      <td>20716.0</td>\n",
       "      <td>1.935210e-01</td>\n",
       "      <td>1.685309e-01</td>\n",
       "      <td>0.014500</td>\n",
       "      <td>9.410000e-02</td>\n",
       "      <td>1.250000e-01</td>\n",
       "      <td>2.370000e-01</td>\n",
       "      <td>1.000000e+00</td>\n",
       "    </tr>\n",
       "    <tr>\n",
       "      <th>Valence</th>\n",
       "      <td>20716.0</td>\n",
       "      <td>5.298533e-01</td>\n",
       "      <td>2.454408e-01</td>\n",
       "      <td>0.000000</td>\n",
       "      <td>3.390000e-01</td>\n",
       "      <td>5.370000e-01</td>\n",
       "      <td>7.262500e-01</td>\n",
       "      <td>9.930000e-01</td>\n",
       "    </tr>\n",
       "    <tr>\n",
       "      <th>Tempo</th>\n",
       "      <td>20716.0</td>\n",
       "      <td>1.206383e+02</td>\n",
       "      <td>2.957902e+01</td>\n",
       "      <td>0.000000</td>\n",
       "      <td>9.700200e+01</td>\n",
       "      <td>1.199650e+02</td>\n",
       "      <td>1.399350e+02</td>\n",
       "      <td>2.433720e+02</td>\n",
       "    </tr>\n",
       "    <tr>\n",
       "      <th>Duration_ms</th>\n",
       "      <td>20716.0</td>\n",
       "      <td>2.247176e+05</td>\n",
       "      <td>1.247905e+05</td>\n",
       "      <td>30985.000000</td>\n",
       "      <td>1.800095e+05</td>\n",
       "      <td>2.132845e+05</td>\n",
       "      <td>2.524430e+05</td>\n",
       "      <td>4.676058e+06</td>\n",
       "    </tr>\n",
       "    <tr>\n",
       "      <th>Views</th>\n",
       "      <td>20248.0</td>\n",
       "      <td>9.393782e+07</td>\n",
       "      <td>2.746443e+08</td>\n",
       "      <td>0.000000</td>\n",
       "      <td>1.826002e+06</td>\n",
       "      <td>1.450110e+07</td>\n",
       "      <td>7.039975e+07</td>\n",
       "      <td>8.079649e+09</td>\n",
       "    </tr>\n",
       "    <tr>\n",
       "      <th>Likes</th>\n",
       "      <td>20177.0</td>\n",
       "      <td>6.633411e+05</td>\n",
       "      <td>1.789324e+06</td>\n",
       "      <td>0.000000</td>\n",
       "      <td>2.158100e+04</td>\n",
       "      <td>1.244810e+05</td>\n",
       "      <td>5.221480e+05</td>\n",
       "      <td>5.078865e+07</td>\n",
       "    </tr>\n",
       "    <tr>\n",
       "      <th>Comments</th>\n",
       "      <td>20149.0</td>\n",
       "      <td>2.751899e+04</td>\n",
       "      <td>1.932347e+05</td>\n",
       "      <td>0.000000</td>\n",
       "      <td>5.090000e+02</td>\n",
       "      <td>3.277000e+03</td>\n",
       "      <td>1.436000e+04</td>\n",
       "      <td>1.608314e+07</td>\n",
       "    </tr>\n",
       "    <tr>\n",
       "      <th>Stream</th>\n",
       "      <td>20142.0</td>\n",
       "      <td>1.359422e+08</td>\n",
       "      <td>2.441321e+08</td>\n",
       "      <td>6574.000000</td>\n",
       "      <td>1.767486e+07</td>\n",
       "      <td>4.968298e+07</td>\n",
       "      <td>1.383581e+08</td>\n",
       "      <td>3.386520e+09</td>\n",
       "    </tr>\n",
       "  </tbody>\n",
       "</table>\n",
       "</div>"
      ],
      "text/plain": [
       "                    count          mean           std           min  \\\n",
       "Unnamed: 0        20718.0  1.035850e+04  5.980916e+03      0.000000   \n",
       "Danceability      20716.0  6.197775e-01  1.652724e-01      0.000000   \n",
       "Energy            20716.0  6.352503e-01  2.141468e-01      0.000020   \n",
       "Key               20716.0  5.300348e+00  3.576449e+00      0.000000   \n",
       "Loudness          20716.0 -7.671680e+00  4.632749e+00    -46.251000   \n",
       "Speechiness       20716.0  9.645601e-02  1.119600e-01      0.000000   \n",
       "Acousticness      20716.0  2.915353e-01  2.862988e-01      0.000001   \n",
       "Instrumentalness  20716.0  5.596156e-02  1.932620e-01      0.000000   \n",
       "Liveness          20716.0  1.935210e-01  1.685309e-01      0.014500   \n",
       "Valence           20716.0  5.298533e-01  2.454408e-01      0.000000   \n",
       "Tempo             20716.0  1.206383e+02  2.957902e+01      0.000000   \n",
       "Duration_ms       20716.0  2.247176e+05  1.247905e+05  30985.000000   \n",
       "Views             20248.0  9.393782e+07  2.746443e+08      0.000000   \n",
       "Likes             20177.0  6.633411e+05  1.789324e+06      0.000000   \n",
       "Comments          20149.0  2.751899e+04  1.932347e+05      0.000000   \n",
       "Stream            20142.0  1.359422e+08  2.441321e+08   6574.000000   \n",
       "\n",
       "                           25%           50%           75%           max  \n",
       "Unnamed: 0        5.179250e+03  1.035850e+04  1.553775e+04  2.071700e+04  \n",
       "Danceability      5.180000e-01  6.370000e-01  7.402500e-01  9.750000e-01  \n",
       "Energy            5.070000e-01  6.660000e-01  7.980000e-01  1.000000e+00  \n",
       "Key               2.000000e+00  5.000000e+00  8.000000e+00  1.100000e+01  \n",
       "Loudness         -8.858000e+00 -6.536000e+00 -4.931000e+00  9.200000e-01  \n",
       "Speechiness       3.570000e-02  5.050000e-02  1.030000e-01  9.640000e-01  \n",
       "Acousticness      4.520000e-02  1.930000e-01  4.772500e-01  9.960000e-01  \n",
       "Instrumentalness  0.000000e+00  2.405000e-06  4.630000e-04  1.000000e+00  \n",
       "Liveness          9.410000e-02  1.250000e-01  2.370000e-01  1.000000e+00  \n",
       "Valence           3.390000e-01  5.370000e-01  7.262500e-01  9.930000e-01  \n",
       "Tempo             9.700200e+01  1.199650e+02  1.399350e+02  2.433720e+02  \n",
       "Duration_ms       1.800095e+05  2.132845e+05  2.524430e+05  4.676058e+06  \n",
       "Views             1.826002e+06  1.450110e+07  7.039975e+07  8.079649e+09  \n",
       "Likes             2.158100e+04  1.244810e+05  5.221480e+05  5.078865e+07  \n",
       "Comments          5.090000e+02  3.277000e+03  1.436000e+04  1.608314e+07  \n",
       "Stream            1.767486e+07  4.968298e+07  1.383581e+08  3.386520e+09  "
      ]
     },
     "execution_count": 10,
     "metadata": {},
     "output_type": "execute_result"
    }
   ],
   "source": [
    "df.describe().T"
   ]
  },
  {
   "cell_type": "code",
   "execution_count": 12,
   "metadata": {},
   "outputs": [
    {
     "data": {
      "text/plain": [
       "Index(['Unnamed: 0', 'Artist', 'Url_spotify', 'Track', 'Album', 'Album_type',\n",
       "       'Uri', 'Danceability', 'Energy', 'Key', 'Loudness', 'Speechiness',\n",
       "       'Acousticness', 'Instrumentalness', 'Liveness', 'Valence', 'Tempo',\n",
       "       'Duration_ms', 'Url_youtube', 'Title', 'Channel', 'Views', 'Likes',\n",
       "       'Comments', 'Description', 'Licensed', 'official_video', 'Stream'],\n",
       "      dtype='object')"
      ]
     },
     "execution_count": 12,
     "metadata": {},
     "output_type": "execute_result"
    }
   ],
   "source": [
    "df.columns"
   ]
  },
  {
   "cell_type": "code",
   "execution_count": 13,
   "metadata": {},
   "outputs": [
    {
     "name": "stdout",
     "output_type": "stream",
     "text": [
      "<class 'pandas.core.frame.DataFrame'>\n",
      "RangeIndex: 20718 entries, 0 to 20717\n",
      "Data columns (total 28 columns):\n",
      "Unnamed: 0          20718 non-null int64\n",
      "Artist              20718 non-null object\n",
      "Url_spotify         20718 non-null object\n",
      "Track               20718 non-null object\n",
      "Album               20718 non-null object\n",
      "Album_type          20718 non-null object\n",
      "Uri                 20718 non-null object\n",
      "Danceability        20716 non-null float64\n",
      "Energy              20716 non-null float64\n",
      "Key                 20716 non-null float64\n",
      "Loudness            20716 non-null float64\n",
      "Speechiness         20716 non-null float64\n",
      "Acousticness        20716 non-null float64\n",
      "Instrumentalness    20716 non-null float64\n",
      "Liveness            20716 non-null float64\n",
      "Valence             20716 non-null float64\n",
      "Tempo               20716 non-null float64\n",
      "Duration_ms         20716 non-null float64\n",
      "Url_youtube         20248 non-null object\n",
      "Title               20248 non-null object\n",
      "Channel             20248 non-null object\n",
      "Views               20248 non-null float64\n",
      "Likes               20177 non-null float64\n",
      "Comments            20149 non-null float64\n",
      "Description         19842 non-null object\n",
      "Licensed            20248 non-null object\n",
      "official_video      20248 non-null object\n",
      "Stream              20142 non-null float64\n",
      "dtypes: float64(15), int64(1), object(12)\n",
      "memory usage: 4.4+ MB\n"
     ]
    }
   ],
   "source": [
    "df.info()"
   ]
  },
  {
   "cell_type": "markdown",
   "metadata": {},
   "source": [
    "### Observations\n",
    "\n",
    "1. The dataset contain 27 columns.\n",
    "2. The number of datapoints is 20,718\n",
    "3. some of the columns have missing values."
   ]
  },
  {
   "cell_type": "code",
   "execution_count": 17,
   "metadata": {},
   "outputs": [
    {
     "data": {
      "text/plain": [
       "Unnamed: 0            0\n",
       "Artist                0\n",
       "Url_spotify           0\n",
       "Track                 0\n",
       "Album                 0\n",
       "Album_type            0\n",
       "Uri                   0\n",
       "Danceability          2\n",
       "Energy                2\n",
       "Key                   2\n",
       "Loudness              2\n",
       "Speechiness           2\n",
       "Acousticness          2\n",
       "Instrumentalness      2\n",
       "Liveness              2\n",
       "Valence               2\n",
       "Tempo                 2\n",
       "Duration_ms           2\n",
       "Url_youtube         470\n",
       "Title               470\n",
       "Channel             470\n",
       "Views               470\n",
       "Likes               541\n",
       "Comments            569\n",
       "Description         876\n",
       "Licensed            470\n",
       "official_video      470\n",
       "Stream              576\n",
       "dtype: int64"
      ]
     },
     "execution_count": 17,
     "metadata": {},
     "output_type": "execute_result"
    }
   ],
   "source": [
    "df.isna().sum()"
   ]
  },
  {
   "cell_type": "markdown",
   "metadata": {},
   "source": [
    "### Handling the missing values\n",
    "1. Filling NA in likes with 0\n",
    "2. Filling NA in comments with 0\n",
    "3. Dropping others"
   ]
  },
  {
   "cell_type": "code",
   "execution_count": 21,
   "metadata": {},
   "outputs": [],
   "source": [
    "# df['Likes'] = df['Likes'].fillna(0)\n",
    "df['Comments'] = df['Comments'].fillna(0)\n",
    "df.dropna(inplace=True)"
   ]
  },
  {
   "cell_type": "code",
   "execution_count": 23,
   "metadata": {},
   "outputs": [
    {
     "data": {
      "text/html": [
       "<div>\n",
       "<style scoped>\n",
       "    .dataframe tbody tr th:only-of-type {\n",
       "        vertical-align: middle;\n",
       "    }\n",
       "\n",
       "    .dataframe tbody tr th {\n",
       "        vertical-align: top;\n",
       "    }\n",
       "\n",
       "    .dataframe thead th {\n",
       "        text-align: right;\n",
       "    }\n",
       "</style>\n",
       "<table border=\"1\" class=\"dataframe\">\n",
       "  <thead>\n",
       "    <tr style=\"text-align: right;\">\n",
       "      <th></th>\n",
       "      <th>Unnamed: 0</th>\n",
       "      <th>Danceability</th>\n",
       "      <th>Energy</th>\n",
       "      <th>Key</th>\n",
       "      <th>Loudness</th>\n",
       "      <th>Speechiness</th>\n",
       "      <th>Acousticness</th>\n",
       "      <th>Instrumentalness</th>\n",
       "      <th>Liveness</th>\n",
       "      <th>Valence</th>\n",
       "      <th>Tempo</th>\n",
       "      <th>Duration_ms</th>\n",
       "      <th>Views</th>\n",
       "      <th>Likes</th>\n",
       "      <th>Comments</th>\n",
       "      <th>Stream</th>\n",
       "    </tr>\n",
       "  </thead>\n",
       "  <tbody>\n",
       "    <tr>\n",
       "      <th>count</th>\n",
       "      <td>19298.000000</td>\n",
       "      <td>19298.000000</td>\n",
       "      <td>19298.000000</td>\n",
       "      <td>19298.000000</td>\n",
       "      <td>19298.000000</td>\n",
       "      <td>19298.000000</td>\n",
       "      <td>19298.000000</td>\n",
       "      <td>19298.000000</td>\n",
       "      <td>19298.000000</td>\n",
       "      <td>19298.000000</td>\n",
       "      <td>19298.000000</td>\n",
       "      <td>1.929800e+04</td>\n",
       "      <td>1.929800e+04</td>\n",
       "      <td>1.929800e+04</td>\n",
       "      <td>1.929800e+04</td>\n",
       "      <td>1.929800e+04</td>\n",
       "    </tr>\n",
       "    <tr>\n",
       "      <th>mean</th>\n",
       "      <td>10426.426365</td>\n",
       "      <td>0.621054</td>\n",
       "      <td>0.635808</td>\n",
       "      <td>5.292103</td>\n",
       "      <td>-7.622436</td>\n",
       "      <td>0.094717</td>\n",
       "      <td>0.288219</td>\n",
       "      <td>0.055655</td>\n",
       "      <td>0.191213</td>\n",
       "      <td>0.528307</td>\n",
       "      <td>120.580877</td>\n",
       "      <td>2.247218e+05</td>\n",
       "      <td>9.683675e+07</td>\n",
       "      <td>6.799624e+05</td>\n",
       "      <td>2.822475e+04</td>\n",
       "      <td>1.381404e+08</td>\n",
       "    </tr>\n",
       "    <tr>\n",
       "      <th>std</th>\n",
       "      <td>5984.350044</td>\n",
       "      <td>0.165511</td>\n",
       "      <td>0.213567</td>\n",
       "      <td>3.579583</td>\n",
       "      <td>4.618275</td>\n",
       "      <td>0.104731</td>\n",
       "      <td>0.285900</td>\n",
       "      <td>0.193055</td>\n",
       "      <td>0.165146</td>\n",
       "      <td>0.245251</td>\n",
       "      <td>29.572995</td>\n",
       "      <td>1.275723e+05</td>\n",
       "      <td>2.791808e+08</td>\n",
       "      <td>1.815996e+06</td>\n",
       "      <td>1.971631e+05</td>\n",
       "      <td>2.474362e+08</td>\n",
       "    </tr>\n",
       "    <tr>\n",
       "      <th>min</th>\n",
       "      <td>0.000000</td>\n",
       "      <td>0.000000</td>\n",
       "      <td>0.000020</td>\n",
       "      <td>0.000000</td>\n",
       "      <td>-46.251000</td>\n",
       "      <td>0.000000</td>\n",
       "      <td>0.000001</td>\n",
       "      <td>0.000000</td>\n",
       "      <td>0.014500</td>\n",
       "      <td>0.000000</td>\n",
       "      <td>0.000000</td>\n",
       "      <td>3.098500e+04</td>\n",
       "      <td>2.600000e+01</td>\n",
       "      <td>0.000000e+00</td>\n",
       "      <td>0.000000e+00</td>\n",
       "      <td>6.574000e+03</td>\n",
       "    </tr>\n",
       "    <tr>\n",
       "      <th>25%</th>\n",
       "      <td>5238.250000</td>\n",
       "      <td>0.520000</td>\n",
       "      <td>0.510000</td>\n",
       "      <td>2.000000</td>\n",
       "      <td>-8.756000</td>\n",
       "      <td>0.035700</td>\n",
       "      <td>0.043600</td>\n",
       "      <td>0.000000</td>\n",
       "      <td>0.094025</td>\n",
       "      <td>0.338000</td>\n",
       "      <td>96.997500</td>\n",
       "      <td>1.802432e+05</td>\n",
       "      <td>2.066310e+06</td>\n",
       "      <td>2.395475e+04</td>\n",
       "      <td>5.580000e+02</td>\n",
       "      <td>1.784301e+07</td>\n",
       "    </tr>\n",
       "    <tr>\n",
       "      <th>50%</th>\n",
       "      <td>10481.500000</td>\n",
       "      <td>0.639000</td>\n",
       "      <td>0.667000</td>\n",
       "      <td>5.000000</td>\n",
       "      <td>-6.506000</td>\n",
       "      <td>0.050500</td>\n",
       "      <td>0.188000</td>\n",
       "      <td>0.000002</td>\n",
       "      <td>0.125000</td>\n",
       "      <td>0.535000</td>\n",
       "      <td>119.965000</td>\n",
       "      <td>2.133575e+05</td>\n",
       "      <td>1.558484e+07</td>\n",
       "      <td>1.317370e+05</td>\n",
       "      <td>3.456500e+03</td>\n",
       "      <td>5.026902e+07</td>\n",
       "    </tr>\n",
       "    <tr>\n",
       "      <th>75%</th>\n",
       "      <td>15623.750000</td>\n",
       "      <td>0.742000</td>\n",
       "      <td>0.797000</td>\n",
       "      <td>8.000000</td>\n",
       "      <td>-4.922000</td>\n",
       "      <td>0.103750</td>\n",
       "      <td>0.469000</td>\n",
       "      <td>0.000442</td>\n",
       "      <td>0.234000</td>\n",
       "      <td>0.724750</td>\n",
       "      <td>139.940500</td>\n",
       "      <td>2.519268e+05</td>\n",
       "      <td>7.340811e+07</td>\n",
       "      <td>5.394230e+05</td>\n",
       "      <td>1.478250e+04</td>\n",
       "      <td>1.407806e+08</td>\n",
       "    </tr>\n",
       "    <tr>\n",
       "      <th>max</th>\n",
       "      <td>20717.000000</td>\n",
       "      <td>0.975000</td>\n",
       "      <td>1.000000</td>\n",
       "      <td>11.000000</td>\n",
       "      <td>0.920000</td>\n",
       "      <td>0.964000</td>\n",
       "      <td>0.996000</td>\n",
       "      <td>1.000000</td>\n",
       "      <td>1.000000</td>\n",
       "      <td>0.993000</td>\n",
       "      <td>243.372000</td>\n",
       "      <td>4.676058e+06</td>\n",
       "      <td>8.079649e+09</td>\n",
       "      <td>5.078865e+07</td>\n",
       "      <td>1.608314e+07</td>\n",
       "      <td>3.386520e+09</td>\n",
       "    </tr>\n",
       "  </tbody>\n",
       "</table>\n",
       "</div>"
      ],
      "text/plain": [
       "         Unnamed: 0  Danceability        Energy           Key      Loudness  \\\n",
       "count  19298.000000  19298.000000  19298.000000  19298.000000  19298.000000   \n",
       "mean   10426.426365      0.621054      0.635808      5.292103     -7.622436   \n",
       "std     5984.350044      0.165511      0.213567      3.579583      4.618275   \n",
       "min        0.000000      0.000000      0.000020      0.000000    -46.251000   \n",
       "25%     5238.250000      0.520000      0.510000      2.000000     -8.756000   \n",
       "50%    10481.500000      0.639000      0.667000      5.000000     -6.506000   \n",
       "75%    15623.750000      0.742000      0.797000      8.000000     -4.922000   \n",
       "max    20717.000000      0.975000      1.000000     11.000000      0.920000   \n",
       "\n",
       "        Speechiness  Acousticness  Instrumentalness      Liveness  \\\n",
       "count  19298.000000  19298.000000      19298.000000  19298.000000   \n",
       "mean       0.094717      0.288219          0.055655      0.191213   \n",
       "std        0.104731      0.285900          0.193055      0.165146   \n",
       "min        0.000000      0.000001          0.000000      0.014500   \n",
       "25%        0.035700      0.043600          0.000000      0.094025   \n",
       "50%        0.050500      0.188000          0.000002      0.125000   \n",
       "75%        0.103750      0.469000          0.000442      0.234000   \n",
       "max        0.964000      0.996000          1.000000      1.000000   \n",
       "\n",
       "            Valence         Tempo   Duration_ms         Views         Likes  \\\n",
       "count  19298.000000  19298.000000  1.929800e+04  1.929800e+04  1.929800e+04   \n",
       "mean       0.528307    120.580877  2.247218e+05  9.683675e+07  6.799624e+05   \n",
       "std        0.245251     29.572995  1.275723e+05  2.791808e+08  1.815996e+06   \n",
       "min        0.000000      0.000000  3.098500e+04  2.600000e+01  0.000000e+00   \n",
       "25%        0.338000     96.997500  1.802432e+05  2.066310e+06  2.395475e+04   \n",
       "50%        0.535000    119.965000  2.133575e+05  1.558484e+07  1.317370e+05   \n",
       "75%        0.724750    139.940500  2.519268e+05  7.340811e+07  5.394230e+05   \n",
       "max        0.993000    243.372000  4.676058e+06  8.079649e+09  5.078865e+07   \n",
       "\n",
       "           Comments        Stream  \n",
       "count  1.929800e+04  1.929800e+04  \n",
       "mean   2.822475e+04  1.381404e+08  \n",
       "std    1.971631e+05  2.474362e+08  \n",
       "min    0.000000e+00  6.574000e+03  \n",
       "25%    5.580000e+02  1.784301e+07  \n",
       "50%    3.456500e+03  5.026902e+07  \n",
       "75%    1.478250e+04  1.407806e+08  \n",
       "max    1.608314e+07  3.386520e+09  "
      ]
     },
     "execution_count": 23,
     "metadata": {},
     "output_type": "execute_result"
    }
   ],
   "source": [
    " df.describe()"
   ]
  },
  {
   "cell_type": "code",
   "execution_count": 24,
   "metadata": {},
   "outputs": [
    {
     "data": {
      "text/plain": [
       "Index(['Unnamed: 0', 'Artist', 'Url_spotify', 'Track', 'Album', 'Album_type',\n",
       "       'Uri', 'Danceability', 'Energy', 'Key', 'Loudness', 'Speechiness',\n",
       "       'Acousticness', 'Instrumentalness', 'Liveness', 'Valence', 'Tempo',\n",
       "       'Duration_ms', 'Url_youtube', 'Title', 'Channel', 'Views', 'Likes',\n",
       "       'Comments', 'Description', 'Licensed', 'official_video', 'Stream'],\n",
       "      dtype='object')"
      ]
     },
     "execution_count": 24,
     "metadata": {},
     "output_type": "execute_result"
    }
   ],
   "source": [
    "df.columns"
   ]
  },
  {
   "cell_type": "markdown",
   "metadata": {},
   "source": [
    "### Exploring the Album Types"
   ]
  },
  {
   "cell_type": "code",
   "execution_count": 27,
   "metadata": {},
   "outputs": [
    {
     "name": "stdout",
     "output_type": "stream",
     "text": [
      "album          13952\n",
      "single          4653\n",
      "compilation      693\n",
      "Name: Album_type, dtype: int64\n"
     ]
    }
   ],
   "source": [
    "album_type_count = df['Album_type'].value_counts()\n",
    "print(album_type_count)"
   ]
  },
  {
   "cell_type": "code",
   "execution_count": 30,
   "metadata": {},
   "outputs": [
    {
     "data": {
      "image/png": "[encoded data removed]",
      "text/plain": [
       "<Figure size 432x288 with 1 Axes>"
      ]
     },
     "metadata": {},
     "output_type": "display_data"
    }
   ],
   "source": [
    "# create a pie chart on Album Types\n",
    "labels  = album_type_count.index.tolist()\n",
    "\n",
    "sizes = album_type_count.values.tolist()\n",
    "\n",
    "plt.pie(sizes,labels=labels,autopct= '%1.1f%%',startangle=90)\n",
    "\n",
    "plt.title('Album Types')\n",
    "plt.legend(labels,loc='best')\n",
    "plt.show()"
   ]
  },
  {
   "cell_type": "markdown",
   "metadata": {},
   "source": [
    "### Ananlyzing songs by artist and views - youtube,stream - spotify"
   ]
  },
  {
   "cell_type": "code",
   "execution_count": 41,
   "metadata": {},
   "outputs": [],
   "source": [
    "# Group the songs by artist and views on youtube and stream on spotify\n",
    "artist_grouped = df.groupby('Artist')[['Views','Stream']].sum()\n",
    "\n",
    "# sort the artist by the sum of views and stream in descending order\n",
    "artist_sorted = artist_grouped.sort_values(['Views','Stream'],ascending = False)\n",
    "\n",
    "# getting the top 10 artist\n",
    "top_15 = artist_sorted.head(15)"
   ]
  },
  {
   "cell_type": "code",
   "execution_count": 42,
   "metadata": {},
   "outputs": [
    {
     "name": "stdout",
     "output_type": "stream",
     "text": [
      "                                Views        Stream\n",
      "Artist                                             \n",
      "Ed Sheeran               1.546021e+10  1.439488e+10\n",
      "CoComelon                1.460167e+10  3.690822e+08\n",
      "Katy Perry               1.312063e+10  6.607329e+09\n",
      "Charlie Puth             1.216759e+10  7.041187e+09\n",
      "Luis Fonsi               1.162811e+10  5.054326e+09\n",
      "Justin Bieber            1.099079e+10  1.012190e+10\n",
      "Daddy Yankee             1.086828e+10  4.937464e+09\n",
      "Bruno Mars               1.023184e+10  9.963335e+09\n",
      "Macklemore & Ryan Lewis  1.012206e+10  3.982978e+09\n",
      "Coldplay                 9.997278e+09  1.177848e+10\n",
      "Calvin Harris            9.758476e+09  9.548542e+09\n",
      "BLACKPINK                9.392962e+09  4.015972e+09\n",
      "DJ Snake                 9.180268e+09  7.739463e+09\n",
      "Eminem                   9.119324e+09  9.748588e+09\n",
      "Imagine Dragons          9.093785e+09  1.185831e+10\n"
     ]
    }
   ],
   "source": [
    "print(top_15)"
   ]
  },
  {
   "cell_type": "code",
   "execution_count": 47,
   "metadata": {},
   "outputs": [],
   "source": [
    "# create two separate dataframe for views and streams\n",
    "df_views = df.groupby('Artist')['Views'].sum().sort_values(ascending=False)[:10]\n",
    "\n",
    "df_streams = df.groupby('Artist')['Stream'].sum().sort_values(ascending=False)[:10]"
   ]
  },
  {
   "cell_type": "code",
   "execution_count": 49,
   "metadata": {},
   "outputs": [
    {
     "data": {
      "image/png": "[encoded data removed]",
      "text/plain": [
       "<Figure size 864x432 with 2 Axes>"
      ]
     },
     "metadata": {
      "needs_background": "light"
     },
     "output_type": "display_data"
    }
   ],
   "source": [
    "fig,(ax1,ax2) = plt.subplots(1,2,figsize=(12,6))\n",
    "\n",
    "# for the top 10 on Youtube\n",
    "ax1.set_title('Top 10 Artists on YouTube')\n",
    "df_views.plot(kind='bar',ax=ax1)\n",
    "\n",
    "# for the top 10 on Spotify\n",
    "ax2.set_title('Top 10 Artists on Spotify')\n",
    "df_streams.plot(kind='bar',ax=ax2)\n",
    "\n",
    "ax1.set_xlabel('Artist')\n",
    "ax1.set_ylabel('Views')\n",
    "ax2.set_xlabel('Artist')\n",
    "ax2.set_ylabel('Steams')\n",
    "fig.tight_layout()\n",
    "plt.show()"
   ]
  },
  {
   "cell_type": "markdown",
   "metadata": {},
   "source": [
    "### Analyzing the top 10 songs based on views,comments and likes"
   ]
  },
  {
   "cell_type": "code",
   "execution_count": 55,
   "metadata": {},
   "outputs": [],
   "source": [
    "# top 10 songs based on views\n",
    "top10_views = df.nlargest(10,'Views')\n",
    "\n",
    "# top 10 songs based on comments\n",
    "top10_comments = df.nlargest(10,'Comments')\n",
    "\n",
    "# top 10 songs based on likes\n",
    "top10_likes = df.nlargest(10,'Likes')"
   ]
  },
  {
   "cell_type": "code",
   "execution_count": 58,
   "metadata": {},
   "outputs": [
    {
     "data": {
      "text/plain": [
       "<matplotlib.axes._subplots.AxesSubplot at 0x2a7b2c716a0>"
      ]
     },
     "execution_count": 58,
     "metadata": {},
     "output_type": "execute_result"
    },
    {
     "data": {
      "image/png": "[encoded data removed]",
      "text/plain": [
       "<Figure size 432x288 with 1 Axes>"
      ]
     },
     "metadata": {
      "needs_background": "light"
     },
     "output_type": "display_data"
    },
    {
     "data": {
      "image/png": "[encoded data removed]",
      "text/plain": [
       "<Figure size 432x288 with 1 Axes>"
      ]
     },
     "metadata": {
      "needs_background": "light"
     },
     "output_type": "display_data"
    },
    {
     "data": {
      "image/png": "[encoded data removed]",
      "text/plain": [
       "<Figure size 432x288 with 1 Axes>"
      ]
     },
     "metadata": {
      "needs_background": "light"
     },
     "output_type": "display_data"
    }
   ],
   "source": [
    "# ploting the top 10 songs based on views\n",
    "top10_views.plot(kind='barh',x='Track',y='Views',title='Top 10 songs with most Views')\n",
    "\n",
    "# ploting the top 10 songs based on likes\n",
    "top10_likes.plot(kind='barh',x='Track',y='Likes',title='Top 10 songs with most likes')\n",
    "\n",
    "# ploting the top 10 songs based on comments\n",
    "top10_comments.plot(kind='barh',x='Track',y='Comments',title='Top 10 songs with most comments')"
   ]
  },
  {
   "cell_type": "markdown",
   "metadata": {},
   "source": [
    "### Observation\n",
    "1. Despacito has is the most popular appearing in all: likes,views and comments\n",
    "2. see you again is next appearing in the grapg of likes and views"
   ]
  },
  {
   "cell_type": "markdown",
   "metadata": {},
   "source": [
    "### Analyzing  Songs based on Energy and Danceability"
   ]
  },
  {
   "cell_type": "code",
   "execution_count": 61,
   "metadata": {},
   "outputs": [
    {
     "data": {
      "text/html": [
       "<div>\n",
       "<style scoped>\n",
       "    .dataframe tbody tr th:only-of-type {\n",
       "        vertical-align: middle;\n",
       "    }\n",
       "\n",
       "    .dataframe tbody tr th {\n",
       "        vertical-align: top;\n",
       "    }\n",
       "\n",
       "    .dataframe thead th {\n",
       "        text-align: right;\n",
       "    }\n",
       "</style>\n",
       "<table border=\"1\" class=\"dataframe\">\n",
       "  <thead>\n",
       "    <tr style=\"text-align: right;\">\n",
       "      <th></th>\n",
       "      <th>Track</th>\n",
       "      <th>Energy</th>\n",
       "      <th>Danceability</th>\n",
       "      <th>Acousticness</th>\n",
       "    </tr>\n",
       "  </thead>\n",
       "  <tbody>\n",
       "    <tr>\n",
       "      <th>15250</th>\n",
       "      <td>Blinding Lights</td>\n",
       "      <td>0.730</td>\n",
       "      <td>0.514</td>\n",
       "      <td>0.00146</td>\n",
       "    </tr>\n",
       "    <tr>\n",
       "      <th>12452</th>\n",
       "      <td>Shape of You</td>\n",
       "      <td>0.652</td>\n",
       "      <td>0.825</td>\n",
       "      <td>0.58100</td>\n",
       "    </tr>\n",
       "    <tr>\n",
       "      <th>19186</th>\n",
       "      <td>Someone You Loved</td>\n",
       "      <td>0.405</td>\n",
       "      <td>0.501</td>\n",
       "      <td>0.75100</td>\n",
       "    </tr>\n",
       "    <tr>\n",
       "      <th>17937</th>\n",
       "      <td>rockstar (feat. 21 Savage)</td>\n",
       "      <td>0.520</td>\n",
       "      <td>0.585</td>\n",
       "      <td>0.12400</td>\n",
       "    </tr>\n",
       "    <tr>\n",
       "      <th>17445</th>\n",
       "      <td>Sunflower - Spider-Man: Into the Spider-Verse</td>\n",
       "      <td>0.522</td>\n",
       "      <td>0.755</td>\n",
       "      <td>0.53300</td>\n",
       "    </tr>\n",
       "    <tr>\n",
       "      <th>17938</th>\n",
       "      <td>Sunflower - Spider-Man: Into the Spider-Verse</td>\n",
       "      <td>0.522</td>\n",
       "      <td>0.755</td>\n",
       "      <td>0.53300</td>\n",
       "    </tr>\n",
       "    <tr>\n",
       "      <th>13503</th>\n",
       "      <td>One Dance</td>\n",
       "      <td>0.625</td>\n",
       "      <td>0.792</td>\n",
       "      <td>0.00776</td>\n",
       "    </tr>\n",
       "    <tr>\n",
       "      <th>16099</th>\n",
       "      <td>Closer</td>\n",
       "      <td>0.524</td>\n",
       "      <td>0.748</td>\n",
       "      <td>0.41400</td>\n",
       "    </tr>\n",
       "    <tr>\n",
       "      <th>16028</th>\n",
       "      <td>Closer</td>\n",
       "      <td>0.524</td>\n",
       "      <td>0.748</td>\n",
       "      <td>0.41400</td>\n",
       "    </tr>\n",
       "    <tr>\n",
       "      <th>14030</th>\n",
       "      <td>Believer</td>\n",
       "      <td>0.780</td>\n",
       "      <td>0.776</td>\n",
       "      <td>0.06220</td>\n",
       "    </tr>\n",
       "  </tbody>\n",
       "</table>\n",
       "</div>"
      ],
      "text/plain": [
       "                                               Track  Energy  Danceability  \\\n",
       "15250                                Blinding Lights   0.730         0.514   \n",
       "12452                                   Shape of You   0.652         0.825   \n",
       "19186                              Someone You Loved   0.405         0.501   \n",
       "17937                     rockstar (feat. 21 Savage)   0.520         0.585   \n",
       "17445  Sunflower - Spider-Man: Into the Spider-Verse   0.522         0.755   \n",
       "17938  Sunflower - Spider-Man: Into the Spider-Verse   0.522         0.755   \n",
       "13503                                      One Dance   0.625         0.792   \n",
       "16099                                         Closer   0.524         0.748   \n",
       "16028                                         Closer   0.524         0.748   \n",
       "14030                                       Believer   0.780         0.776   \n",
       "\n",
       "       Acousticness  \n",
       "15250       0.00146  \n",
       "12452       0.58100  \n",
       "19186       0.75100  \n",
       "17937       0.12400  \n",
       "17445       0.53300  \n",
       "17938       0.53300  \n",
       "13503       0.00776  \n",
       "16099       0.41400  \n",
       "16028       0.41400  \n",
       "14030       0.06220  "
      ]
     },
     "execution_count": 61,
     "metadata": {},
     "output_type": "execute_result"
    }
   ],
   "source": [
    "top_songs = df.sort_values('Stream',ascending=False).head(10)\n",
    "top_songs[['Track','Energy','Danceability','Acousticness']]"
   ]
  },
  {
   "cell_type": "code",
   "execution_count": 69,
   "metadata": {},
   "outputs": [
    {
     "name": "stderr",
     "output_type": "stream",
     "text": [
      "C:\\ProgramData\\Anaconda3\\lib\\site-packages\\matplotlib\\legend.py:497: UserWarning: Unrecognized location \"Upper right\". Falling back on \"best\"; valid locations are\n",
      "\tbest\n",
      "\tupper right\n",
      "\tupper left\n",
      "\tlower left\n",
      "\tlower right\n",
      "\tright\n",
      "\tcenter left\n",
      "\tcenter right\n",
      "\tlower center\n",
      "\tupper center\n",
      "\tcenter\n",
      "\n",
      "  % (loc, '\\n\\t'.join(self.codes)))\n"
     ]
    },
    {
     "data": {
      "image/png": "[encoded data removed]",
      "text/plain": [
       "<Figure size 720x360 with 1 Axes>"
      ]
     },
     "metadata": {},
     "output_type": "display_data"
    }
   ],
   "source": [
    "top_songs_melt = top_songs.melt(id_vars=['Track'],\\\n",
    "                                value_vars=['Energy','Danceability','Acousticness'],\\\n",
    "                                var_name ='Attribute',value_name='Value')\n",
    "\n",
    "sns.set_style('whitegrid')\n",
    "sns.catplot(x='Track',y='Value',hue='Attribute',data=top_songs_melt,kind='bar',\\\n",
    "            palette={'Energy':'blue','Danceability':'Orange','Acousticness':'green'},\\\n",
    "            aspect=2,legend = False)\n",
    "\n",
    "plt.legend(loc='Upper right',bbox_to_anchor=(1.25,1))\n",
    "plt.title('Top 10 Songs by Stream')\n",
    "plt.xlabel('Trace')\n",
    "plt.ylabel('Value')\n",
    "plt.xticks(rotation=90)\n",
    "plt.show()"
   ]
  },
  {
   "cell_type": "markdown",
   "metadata": {},
   "source": [
    "## Finding the top 10 Artist on Spotify whose Songs have the Highest Likes"
   ]
  },
  {
   "cell_type": "code",
   "execution_count": 74,
   "metadata": {},
   "outputs": [],
   "source": [
    "# making the column Artist as the index\n",
    "df_artist = df.set_index('Artist')\n",
    "df_artist = df_artist[['Danceability','Views','Likes','Album_type']]"
   ]
  },
  {
   "cell_type": "code",
   "execution_count": 80,
   "metadata": {},
   "outputs": [
    {
     "data": {
      "text/html": [
       "<div>\n",
       "<style scoped>\n",
       "    .dataframe tbody tr th:only-of-type {\n",
       "        vertical-align: middle;\n",
       "    }\n",
       "\n",
       "    .dataframe tbody tr th {\n",
       "        vertical-align: top;\n",
       "    }\n",
       "\n",
       "    .dataframe thead th {\n",
       "        text-align: right;\n",
       "    }\n",
       "</style>\n",
       "<table border=\"1\" class=\"dataframe\">\n",
       "  <thead>\n",
       "    <tr style=\"text-align: right;\">\n",
       "      <th></th>\n",
       "      <th>Artist</th>\n",
       "      <th>Likes</th>\n",
       "    </tr>\n",
       "  </thead>\n",
       "  <tbody>\n",
       "    <tr>\n",
       "      <th>151</th>\n",
       "      <td>BTS</td>\n",
       "      <td>139403808.0</td>\n",
       "    </tr>\n",
       "    <tr>\n",
       "      <th>149</th>\n",
       "      <td>BLACKPINK</td>\n",
       "      <td>132302505.0</td>\n",
       "    </tr>\n",
       "    <tr>\n",
       "      <th>329</th>\n",
       "      <td>Charlie Puth</td>\n",
       "      <td>86336925.0</td>\n",
       "    </tr>\n",
       "    <tr>\n",
       "      <th>516</th>\n",
       "      <td>Ed Sheeran</td>\n",
       "      <td>83543319.0</td>\n",
       "    </tr>\n",
       "    <tr>\n",
       "      <th>908</th>\n",
       "      <td>Justin Bieber</td>\n",
       "      <td>78579227.0</td>\n",
       "    </tr>\n",
       "    <tr>\n",
       "      <th>199</th>\n",
       "      <td>Billie Eilish</td>\n",
       "      <td>73338537.0</td>\n",
       "    </tr>\n",
       "    <tr>\n",
       "      <th>764</th>\n",
       "      <td>Imagine Dragons</td>\n",
       "      <td>72274477.0</td>\n",
       "    </tr>\n",
       "    <tr>\n",
       "      <th>59</th>\n",
       "      <td>Alan Walker</td>\n",
       "      <td>67977702.0</td>\n",
       "    </tr>\n",
       "    <tr>\n",
       "      <th>411</th>\n",
       "      <td>DJ Snake</td>\n",
       "      <td>67775831.0</td>\n",
       "    </tr>\n",
       "    <tr>\n",
       "      <th>1129</th>\n",
       "      <td>Luis Fonsi</td>\n",
       "      <td>66908489.0</td>\n",
       "    </tr>\n",
       "  </tbody>\n",
       "</table>\n",
       "</div>"
      ],
      "text/plain": [
       "               Artist        Likes\n",
       "151               BTS  139403808.0\n",
       "149         BLACKPINK  132302505.0\n",
       "329      Charlie Puth   86336925.0\n",
       "516        Ed Sheeran   83543319.0\n",
       "908     Justin Bieber   78579227.0\n",
       "199     Billie Eilish   73338537.0\n",
       "764   Imagine Dragons   72274477.0\n",
       "59        Alan Walker   67977702.0\n",
       "411          DJ Snake   67775831.0\n",
       "1129       Luis Fonsi   66908489.0"
      ]
     },
     "execution_count": 80,
     "metadata": {},
     "output_type": "execute_result"
    }
   ],
   "source": [
    "# group the data by artist and calculate the mean danceability score\n",
    "df_artist_group = df_artist.groupby('Artist')['Likes'].sum().reset_index()\n",
    "\n",
    "# sort the data by danceability score in descending order\n",
    "df_artist_sorted = df_artist_group.sort_values(by='Likes',ascending=False)\n",
    "\n",
    "# The top 10 Artist with the highest Danceability score\n",
    "df_artist_top10= df_artist_sorted.head(10)\n",
    "df_artist_top10\n",
    "\n",
    "# ploting a barh on the data\n",
    "df_artist_top10.plot(kind='Barh',y='Likes',x='Artist',title='Top 10 Artist with Highest Likes')"
   ]
  },
  {
   "cell_type": "code",
   "execution_count": 84,
   "metadata": {},
   "outputs": [
    {
     "data": {
      "text/plain": [
       "<matplotlib.axes._subplots.AxesSubplot at 0x2a7b5c43e10>"
      ]
     },
     "execution_count": 84,
     "metadata": {},
     "output_type": "execute_result"
    },
    {
     "data": {
      "image/png": "[encoded data removed]",
      "text/plain": [
       "<Figure size 432x288 with 1 Axes>"
      ]
     },
     "metadata": {},
     "output_type": "display_data"
    }
   ],
   "source": [
    "# ploting a barh on the data\n",
    "df_artist_top10.plot(kind='Barh',y='Likes',x='Artist',title='Top 10 Artist with Highest Likes')"
   ]
  },
  {
   "cell_type": "code",
   "execution_count": 89,
   "metadata": {},
   "outputs": [
    {
     "data": {
      "image/png": "[encoded data removed]",
      "text/plain": [
       "<Figure size 432x288 with 1 Axes>"
      ]
     },
     "metadata": {},
     "output_type": "display_data"
    }
   ],
   "source": [
    "# create a horizontal bar plot using seaborn\n",
    "sns.barplot(x='Likes',y='Artist',data=df_artist_top10)\n",
    "plt.xlabel('Number of Likes')\n",
    "plt.ylabel('Artists')\n",
    "plt.title('Top 10 Artist with highest Likes')\n",
    "plt.show()"
   ]
  },
  {
   "cell_type": "markdown",
   "metadata": {},
   "source": [
    "### Observations \n",
    "BTS and BLACKPINK are the most popular"
   ]
  },
  {
   "cell_type": "markdown",
   "metadata": {},
   "source": [
    "### Exploring Single Releases by Artists\n",
    "#### Identifying Top Performance Based on Likes"
   ]
  },
  {
   "cell_type": "code",
   "execution_count": 98,
   "metadata": {},
   "outputs": [
    {
     "data": {
      "text/html": [
       "<div>\n",
       "<style scoped>\n",
       "    .dataframe tbody tr th:only-of-type {\n",
       "        vertical-align: middle;\n",
       "    }\n",
       "\n",
       "    .dataframe tbody tr th {\n",
       "        vertical-align: top;\n",
       "    }\n",
       "\n",
       "    .dataframe thead th {\n",
       "        text-align: right;\n",
       "    }\n",
       "</style>\n",
       "<table border=\"1\" class=\"dataframe\">\n",
       "  <thead>\n",
       "    <tr style=\"text-align: right;\">\n",
       "      <th></th>\n",
       "      <th>Likes</th>\n",
       "      <th>Views</th>\n",
       "    </tr>\n",
       "    <tr>\n",
       "      <th>Artist</th>\n",
       "      <th></th>\n",
       "      <th></th>\n",
       "    </tr>\n",
       "  </thead>\n",
       "  <tbody>\n",
       "    <tr>\n",
       "      <th>BLACKPINK</th>\n",
       "      <td>82959030.0</td>\n",
       "      <td>7.329516e+09</td>\n",
       "    </tr>\n",
       "    <tr>\n",
       "      <th>Wiz Khalifa</th>\n",
       "      <td>47790517.0</td>\n",
       "      <td>6.761550e+09</td>\n",
       "    </tr>\n",
       "    <tr>\n",
       "      <th>Charlie Puth</th>\n",
       "      <td>41746947.0</td>\n",
       "      <td>5.870179e+09</td>\n",
       "    </tr>\n",
       "    <tr>\n",
       "      <th>Jubin Nautiyal</th>\n",
       "      <td>39238542.0</td>\n",
       "      <td>4.525859e+09</td>\n",
       "    </tr>\n",
       "    <tr>\n",
       "      <th>Lil Nas X</th>\n",
       "      <td>39103751.0</td>\n",
       "      <td>3.031660e+09</td>\n",
       "    </tr>\n",
       "    <tr>\n",
       "      <th>Marshmello</th>\n",
       "      <td>35843277.0</td>\n",
       "      <td>2.927575e+09</td>\n",
       "    </tr>\n",
       "    <tr>\n",
       "      <th>Billie Eilish</th>\n",
       "      <td>35590580.0</td>\n",
       "      <td>2.435116e+09</td>\n",
       "    </tr>\n",
       "    <tr>\n",
       "      <th>Bizarrap</th>\n",
       "      <td>33922836.0</td>\n",
       "      <td>1.719856e+09</td>\n",
       "    </tr>\n",
       "    <tr>\n",
       "      <th>Ozuna</th>\n",
       "      <td>33337259.0</td>\n",
       "      <td>5.296919e+09</td>\n",
       "    </tr>\n",
       "    <tr>\n",
       "      <th>Tanishk Bagchi</th>\n",
       "      <td>33190629.0</td>\n",
       "      <td>3.774839e+09</td>\n",
       "    </tr>\n",
       "  </tbody>\n",
       "</table>\n",
       "</div>"
      ],
      "text/plain": [
       "                     Likes         Views\n",
       "Artist                                  \n",
       "BLACKPINK       82959030.0  7.329516e+09\n",
       "Wiz Khalifa     47790517.0  6.761550e+09\n",
       "Charlie Puth    41746947.0  5.870179e+09\n",
       "Jubin Nautiyal  39238542.0  4.525859e+09\n",
       "Lil Nas X       39103751.0  3.031660e+09\n",
       "Marshmello      35843277.0  2.927575e+09\n",
       "Billie Eilish   35590580.0  2.435116e+09\n",
       "Bizarrap        33922836.0  1.719856e+09\n",
       "Ozuna           33337259.0  5.296919e+09\n",
       "Tanishk Bagchi  33190629.0  3.774839e+09"
      ]
     },
     "execution_count": 98,
     "metadata": {},
     "output_type": "execute_result"
    }
   ],
   "source": [
    "# selecting only the data on singles\n",
    "singles = df[df['Album_type']== 'single']\n",
    "\n",
    "# group the data by artist and calculate the likes and views\n",
    "grouped = singles.groupby('Artist').agg({'Likes':'sum','Views':'sum'})\n",
    "\n",
    "# sort the grouped data and call out the top 10\n",
    "top_10_artist = grouped.sort_values('Likes',ascending=False).head(10)\n",
    "top_10_artist"
   ]
  },
  {
   "cell_type": "markdown",
   "metadata": {},
   "source": [
    "### Exploring Complications Release by Artists:\n",
    "Indentifyingg the Top Performers Based on likes"
   ]
  },
  {
   "cell_type": "code",
   "execution_count": 104,
   "metadata": {},
   "outputs": [],
   "source": [
    "# selecting the data only on Complications\n",
    "complications = df[df['Album_type'] == 'commplication']\n",
    "\n",
    "# group the data by artist and calculate the likes and views\n",
    "grouped_com = complications.groupby('Artist').agg({'Likes':'sum','Views':'sum'})"
   ]
  },
  {
   "cell_type": "code",
   "execution_count": 102,
   "metadata": {},
   "outputs": [
    {
     "data": {
      "text/html": [
       "<div>\n",
       "<style scoped>\n",
       "    .dataframe tbody tr th:only-of-type {\n",
       "        vertical-align: middle;\n",
       "    }\n",
       "\n",
       "    .dataframe tbody tr th {\n",
       "        vertical-align: top;\n",
       "    }\n",
       "\n",
       "    .dataframe thead th {\n",
       "        text-align: right;\n",
       "    }\n",
       "</style>\n",
       "<table border=\"1\" class=\"dataframe\">\n",
       "  <thead>\n",
       "    <tr style=\"text-align: right;\">\n",
       "      <th></th>\n",
       "      <th>Likes</th>\n",
       "      <th>Views</th>\n",
       "    </tr>\n",
       "    <tr>\n",
       "      <th>Artist</th>\n",
       "      <th></th>\n",
       "      <th></th>\n",
       "    </tr>\n",
       "  </thead>\n",
       "  <tbody>\n",
       "  </tbody>\n",
       "</table>\n",
       "</div>"
      ],
      "text/plain": [
       "Empty DataFrame\n",
       "Columns: [Likes, Views]\n",
       "Index: []"
      ]
     },
     "execution_count": 102,
     "metadata": {},
     "output_type": "execute_result"
    }
   ],
   "source": [
    "# group the data by artist and calculate the likes and views\n",
    "grouped_c = complications.groupby('Artist').agg({'Likes':'sum','Views':'sum'})\n",
    "grouped_c"
   ]
  },
  {
   "cell_type": "markdown",
   "metadata": {},
   "source": [
    "## Identify the Top 10 Channels Based on Views"
   ]
  },
  {
   "cell_type": "code",
   "execution_count": 115,
   "metadata": {},
   "outputs": [
    {
     "data": {
      "text/plain": [
       "<function matplotlib.pyplot.show(*args, **kw)>"
      ]
     },
     "execution_count": 115,
     "metadata": {},
     "output_type": "execute_result"
    },
    {
     "data": {
      "image/png": "[encoded data removed]",
      "text/plain": [
       "<Figure size 432x288 with 1 Axes>"
      ]
     },
     "metadata": {},
     "output_type": "display_data"
    }
   ],
   "source": [
    "df_channels = df.groupby('Channel')['Views'].sum().reset_index()\n",
    "\n",
    "df_sort_channels = df_channels.sort_values('Views',ascending=False).head(10)\n",
    "\n",
    "sns.barplot(x='Views',y='Channel',data=df_sort_channels,color ='red')\n",
    "plt.xlabel('Views')\n",
    "plt.ylabel('Channels')\n",
    "plt.title('Top 10 Channels Based on Views')\n",
    "plt.show"
   ]
  },
  {
   "cell_type": "code",
   "execution_count": null,
   "metadata": {},
   "outputs": [],
   "source": []
  }
 ],
 "metadata": {
  "kernelspec": {
   "display_name": "Python 3",
   "language": "python",
   "name": "python3"
  },
  "language_info": {
   "codemirror_mode": {
    "name": "ipython",
    "version": 3
   },
   "file_extension": ".py",
   "mimetype": "text/x-python",
   "name": "python",
   "nbconvert_exporter": "python",
   "pygments_lexer": "ipython3",
   "version": "3.7.3"
  }
 },
 "nbformat": 4,
 "nbformat_minor": 2
}
